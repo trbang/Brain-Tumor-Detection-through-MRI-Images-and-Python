{
  "metadata": {
    "language_info": {
      "codemirror_mode": {
        "name": "python",
        "version": 3
      },
      "file_extension": ".py",
      "mimetype": "text/x-python",
      "name": "python",
      "nbconvert_exporter": "python",
      "pygments_lexer": "ipython3",
      "version": "3.8"
    },
    "kernelspec": {
      "name": "python",
      "display_name": "Python (Pyodide)",
      "language": "python"
    }
  },
  "nbformat_minor": 4,
  "nbformat": 4,
  "cells": [
    {
      "cell_type": "code",
      "source": "#Downloading Requirements\npip install sklearn\npip install numpy\npip install pandas\npip install matplotlib",
      "metadata": {},
      "execution_count": null,
      "outputs": []
    },
    {
      "cell_type": "code",
      "source": "#Loading Dependencies\nimport numpy as np\nimport pandas as pd\nimport matplotlib.pyplot as plt\nfrom sklearn.model_selection import train_test_split\nfrom sklearn.metrics import accuracy_score",
      "metadata": {},
      "execution_count": null,
      "outputs": []
    },
    {
      "cell_type": "code",
      "source": "#Load and Prepare Data\nimport os\n\npath = os.listdir('../Brain Tumor MRI Classification Images/Training/')\nclasses - {'no_tumor':0, 'pituitary_tumor':1}",
      "metadata": {},
      "execution_count": null,
      "outputs": []
    },
    {
      "cell_type": "code",
      "source": "import cv2\nX - []\nY = []\nfor cls in classes:\n    pth = '../Brain Tumor MRI Classification Images/Training/'+cls\n    for j in os.listdir(pth):\n        img = cv2.imread(pth+'/'+j, 0)\n        img = cv2.resize(img, (200,200))\n        X.append(img)\n        Y.append(classes[cls])",
      "metadata": {
        "tags": []
      },
      "execution_count": null,
      "outputs": []
    },
    {
      "cell_type": "code",
      "source": "#Data Analysis\nX = np.array(X)\nY = np.array(Y)\n\nX_Updated = X.reshape(len(X), -1)",
      "metadata": {},
      "execution_count": null,
      "outputs": []
    },
    {
      "cell_type": "code",
      "source": "np.Unique(Y)",
      "metadata": {
        "tags": []
      },
      "execution_count": null,
      "outputs": []
    },
    {
      "cell_type": "code",
      "source": "pd.Series(Y).value_counts()",
      "metadata": {},
      "execution_count": null,
      "outputs": []
    },
    {
      "cell_type": "code",
      "source": "X.shape, X_Updated.shape",
      "metadata": {},
      "execution_count": null,
      "outputs": []
    },
    {
      "cell_type": "code",
      "source": "#Data Visualization\nplt.imshow(X[0], cmap='gray')",
      "metadata": {},
      "execution_count": null,
      "outputs": []
    },
    {
      "cell_type": "code",
      "source": "#Split Data\nxtrain, xtest, ytrain, ytest = train_test_split(X_Updated, Y, random_state=10, test_size=.20)",
      "metadata": {},
      "execution_count": null,
      "outputs": []
    },
    {
      "cell_type": "code",
      "source": "xtrain.shape, xtest.shape",
      "metadata": {},
      "execution_count": null,
      "outputs": []
    },
    {
      "cell_type": "code",
      "source": "#Feature Value Scaling - Less than or equal to one\nprint(xtrain.max(), xtrain.min())\nprint(xtest.max(), xtest.min())\nxtrain = xtrain/255\nxtest = xtest/255\nprint(xtrain.max(), xtrain.min())\nprint(xtest.max(), xtest.min())",
      "metadata": {},
      "execution_count": null,
      "outputs": []
    },
    {
      "cell_type": "code",
      "source": "#Model Training\nfrom sklearn.linear_model import LogisticRegression\nfrom sklearn.cvm import SVC",
      "metadata": {},
      "execution_count": null,
      "outputs": []
    },
    {
      "cell_type": "code",
      "source": "import warnings\nwarnings.filterwarnings('ignore')\n\nlg = LogisticRegression(C=.1)\nlg.fit(xtrain, ytrain)",
      "metadata": {},
      "execution_count": null,
      "outputs": []
    },
    {
      "cell_type": "code",
      "source": "sv = SVC()\nsv.fit(xtrain, ytrain)",
      "metadata": {},
      "execution_count": null,
      "outputs": []
    },
    {
      "cell_type": "code",
      "source": "#Evaluation\nprint(\"Training Score:\", lg.score(xtrain, ytrain))\nprint(\"Testing Score:\", lg.score(xtest, ytest))",
      "metadata": {},
      "execution_count": null,
      "outputs": []
    },
    {
      "cell_type": "code",
      "source": "print(\"Training Score:\", sv.score(xtrain, ytrain))\nprint(\"Testing Score:\", sv.score(xtest, ytest))",
      "metadata": {},
      "execution_count": null,
      "outputs": []
    },
    {
      "cell_type": "code",
      "source": "#Prediction\npred = sv.predict(xtest)",
      "metadata": {},
      "execution_count": null,
      "outputs": []
    },
    {
      "cell_type": "code",
      "source": "misclassified=np.where(ytest!=pred)",
      "metadata": {},
      "execution_count": null,
      "outputs": []
    },
    {
      "cell_type": "code",
      "source": "print(\"Total Misclassified Samples: \",len(misclassified[0]))\nprint(pred[36],ytest[36])",
      "metadata": {},
      "execution_count": null,
      "outputs": []
    },
    {
      "cell_type": "code",
      "source": "#Testing/Examining Results\ndec = {0:'No Tumor', 1:'Positive Tumor'}",
      "metadata": {},
      "execution_count": null,
      "outputs": []
    },
    {
      "cell_type": "code",
      "source": "plt.figure(figsize=(12,8))\np = os.listdir('../Brain Tumor MRI Classification Images/Training/')\nc=1\nfor i in os.listdir('../Brain Tumor MRI Classification Images/Training/')[:9]:plt.subplot(3,3,c)\n\nimg = cv2.imread('../Brain Tumor MRI Classification Images/Training/'+i,0)\nimg1 = cv2.resize(img, (200,200))\nimg1 = img1.reshape(1,-1)/255\np = sv.predict(img1)\nplt.title(dec[p[0]])\nplt.imshow(img, cmap='gray')\nplt.axis('off')\nc+=1",
      "metadata": {},
      "execution_count": null,
      "outputs": []
    },
    {
      "cell_type": "code",
      "source": "plt.figure(figsize=(12,8))\np = os.listdir('../Brain Tumor MRI Classification Images/Training/')\nc=1\nfor i in os.listdir('../Brain Tumor MRI Classification Images/Training/')[:16]:plt.subplot(4,4,c)\n\nimg = cv2.imread('../Brain Tumor MRI Classification Images/Training/'+i,0)\nimg1 = cv2.resize(img, (200,200))\nimg1 = img1.reshape(1,-1)/255\np = sv.predict(img1)\nplt.title(dec[p[0]])\nplt.imshow(img, cmap='gray')\nplt.axis('off')\nc+=1",
      "metadata": {},
      "execution_count": null,
      "outputs": []
    }
  ]
}